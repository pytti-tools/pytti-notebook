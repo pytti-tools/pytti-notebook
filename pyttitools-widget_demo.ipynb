{
 "cells": [
  {
   "cell_type": "code",
   "execution_count": null,
   "metadata": {},
   "outputs": [],
   "source": [
    "!pip install --quiet ipycanvas\n",
    "from google.colab import output\n",
    "output.enable_custom_widget_manager()\n",
    "\n",
    "\n",
    "!git clone --branch dev --quiet https://github.com/pytti-tools/pytti-notebook\n",
    "#!pip install ./pytti-notebook\n",
    "%cd ./pytti-notebook/src"
   ]
  },
  {
   "cell_type": "code",
   "execution_count": null,
   "metadata": {},
   "outputs": [],
   "source": [
    "from pytti_notebook.widgets import Sketcher\n",
    "\n",
    "widget = Sketcher()\n",
    "widget.show()"
   ]
  },
  {
   "cell_type": "code",
   "execution_count": null,
   "metadata": {},
   "outputs": [],
   "source": [
    "import matplotlib.pyplot as plt\n",
    "\n",
    "np_canvas_image =  widget.container.get_image_data()\n",
    "plt.imshow(np_canvas_image)\n",
    "plt.show()\n",
    "# ok, so we don't see the infill but this still basically works. cool."
   ]
  }
 ],
 "metadata": {
  "interpreter": {
   "hash": "ed3c9fc8a5f03c3dc597e3a9b08f8348a8b45c9a8d6c2a4b9482bdefb5419587"
  },
  "kernelspec": {
   "display_name": "Python 3.9.9 ('sandbox')",
   "language": "python",
   "name": "python3"
  },
  "language_info": {
   "name": "python",
   "version": "3.9.9"
  },
  "orig_nbformat": 4
 },
 "nbformat": 4,
 "nbformat_minor": 2
}
