{
 "cells": [
  {
   "cell_type": "code",
   "execution_count": null,
   "metadata": {},
   "outputs": [],
   "source": [
    "!pip install -q ipycanvas\n",
    "from google.colab import output\n",
    "output.enable_custom_widget_manager()\n",
    "\n",
    "\n",
    "!git clone --branch dev https://github.com/pytti-tools/pytti-notebook\n",
    "#!pip install ./pytti-notebook\n",
    "%cd ./pytti-notebook/src"
   ]
  },
  {
   "cell_type": "code",
   "execution_count": null,
   "metadata": {},
   "outputs": [],
   "source": [
    "from pytti_notebook.widgets import Sketcher\n",
    "\n",
    "widget = Sketcher()\n",
    "widget.show()"
   ]
  },
  {
   "cell_type": "code",
   "execution_count": null,
   "metadata": {},
   "outputs": [],
   "source": [
    "import matplotlib.pyplot as plt\n",
    "\n",
    "np_canvas_image =  widget.canvas.get_image_data()\n",
    "plt.imshow(np_canvas_image)\n",
    "plt.show()\n",
    "# ok, so we don't see the infill but this still basically works. cool."
   ]
  }
 ],
 "metadata": {
  "language_info": {
   "name": "python"
  },
  "orig_nbformat": 4
 },
 "nbformat": 4,
 "nbformat_minor": 2
}
