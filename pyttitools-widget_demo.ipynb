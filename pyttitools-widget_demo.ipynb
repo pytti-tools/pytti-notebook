{
 "cells": [
  {
   "cell_type": "code",
   "execution_count": null,
   "metadata": {},
   "outputs": [],
   "source": [
    "!pip install -q ipycanvas\n",
    "from google.colab import output\n",
    "output.enable_custom_widget_manager()\n",
    "\n",
    "#!pip install .\n",
    "!git clone --branch dev https://github.com/pytti-tools/pytti-notebook\n",
    "%cd ./pytti-notebook/src\n",
    "from pytti_notebook.widgets import Sketcher\n",
    "\n",
    "widget = Sketcher()\n",
    "widget.show()"
   ]
  },
  {
   "cell_type": "code",
   "execution_count": null,
   "metadata": {},
   "outputs": [],
   "source": [
    "widget.canvas.get_image_data()"
   ]
  }
 ],
 "metadata": {
  "language_info": {
   "name": "python"
  },
  "orig_nbformat": 4
 },
 "nbformat": 4,
 "nbformat_minor": 2
}
