{
 "cells": [
  {
   "cell_type": "code",
   "execution_count": null,
   "metadata": {},
   "outputs": [],
   "source": [
    "%%capture\n",
    "# { display-mode: 'form' }\n",
    "\n",
    "# @title PyTTI-Tools [EzMode]: VQGAN\n",
    "\n",
    "# @markdown ## Setup\n",
    "\n",
    "# @markdown This may take a few minutes. \n",
    "\n",
    "## 1. Install stuff\n",
    "\n",
    "try: \n",
    "    import pytti\n",
    "except ImportError:\n",
    "    !pip install kornia pytorch-lightning transformers\n",
    "    !pip install jupyter loguru einops PyGLM ftfy regex tqdm hydra-core exrex\n",
    "    !pip install seaborn adjustText bunch matplotlib-label-lines\n",
    "    !pip install --upgrade gdown\n",
    "\n",
    "    !pip install --upgrade git+https://github.com/pytti-tools/AdaBins.git\n",
    "    !pip install --upgrade git+https://github.com/pytti-tools/GMA.git\n",
    "    !pip install --upgrade git+https://github.com/pytti-tools/taming-transformers.git\n",
    "    !pip install --upgrade git+https://github.com/openai/CLIP.git\n",
    "    !pip install --upgrade git+https://github.com/pytti-tools/pytti-core.git\n",
    "\n",
    "try:\n",
    "    import mmc\n",
    "except:\n",
    "    # install mmc\n",
    "    !git clone https://github.com/dmarx/Multi-Modal-Comparators\n",
    "    !pip install poetry\n",
    "    !cd Multi-Modal-Comparators; poetry build\n",
    "    !cd Multi-Modal-Comparators; pip install dist/mmc*.whl\n",
    "    !python Multi-Modal-Comparators/src/mmc/napm_installs/__init__.py\n",
    "\n",
    "# suppress mmc warmup outputs\n",
    "import mmc.loaders\n",
    "!python -m pytti.warmup"
   ]
  }
 ],
 "metadata": {
  "language_info": {
   "name": "python"
  },
  "orig_nbformat": 4
 },
 "nbformat": 4,
 "nbformat_minor": 2
}
