{
 "cells": [
  {
   "cell_type": "code",
   "execution_count": null,
   "metadata": {},
   "outputs": [],
   "source": [
    "%%capture\n",
    "# { display-mode: 'form' }\n",
    "\n",
    "# @title PyTTI-Tools [EzMode]: VQGAN\n",
    "\n",
    "# @markdown ## Setup\n",
    "\n",
    "# @markdown This may take a few minutes. \n",
    "\n",
    "## 1. Install stuff\n",
    "\n",
    "try: \n",
    "    import pytti\n",
    "except ImportError:\n",
    "    !pip install kornia pytorch-lightning transformers\n",
    "    !pip install jupyter loguru einops PyGLM ftfy regex tqdm hydra-core exrex\n",
    "    !pip install seaborn adjustText bunch matplotlib-label-lines\n",
    "    !pip install --upgrade gdown\n",
    "\n",
    "    !pip install --upgrade git+https://github.com/pytti-tools/AdaBins.git\n",
    "    !pip install --upgrade git+https://github.com/pytti-tools/GMA.git\n",
    "    !pip install --upgrade git+https://github.com/pytti-tools/taming-transformers.git\n",
    "    !pip install --upgrade git+https://github.com/openai/CLIP.git\n",
    "    !pip install --upgrade git+https://github.com/pytti-tools/pytti-core.git\n",
    "\n",
    "try:\n",
    "    import mmc\n",
    "except:\n",
    "    # install mmc\n",
    "    !git clone https://github.com/dmarx/Multi-Modal-Comparators\n",
    "    !pip install poetry\n",
    "    !cd Multi-Modal-Comparators; poetry build\n",
    "    !cd Multi-Modal-Comparators; pip install dist/mmc*.whl\n",
    "    !python Multi-Modal-Comparators/src/mmc/napm_installs/__init__.py\n",
    "\n",
    "from omegaconf import OmegaConf\n",
    "from pathlib import Path\n",
    "import mmc.loaders\n",
    "!python -m pytti.warmup\n",
    "\n",
    "notebook_params = {}\n",
    "\n",
    "def get_output_paths():\n",
    "  outv = list(Path('outputs/').glob('**/*.png'))\n",
    "  outv.sort()\n",
    "  return outv"
   ]
  },
  {
   "cell_type": "code",
   "execution_count": null,
   "metadata": {},
   "outputs": [],
   "source": [
    "resume = True # @param {type:\"boolean\"}\n",
    "\n",
    "if resume:\n",
    "    inits = get_output_paths()\n",
    "    if inits:\n",
    "       notebook_params.update({\n",
    "           'init_image':inits[-1],\n",
    "           })"
   ]
  },
  {
   "cell_type": "code",
   "execution_count": null,
   "metadata": {},
   "outputs": [],
   "source": [
    "# @markdown ## Basic Settings\n",
    "\n",
    "prompts = \"a photograph of albert einstein\" # @param {type:\"string\"}\n",
    "height = 512 # @param {type:\"integer\"}\n",
    "width = 512 # @param {type:\"integer\"}\n",
    "\n",
    "cell_params = {\n",
    "    \"scenes\": prompts,\n",
    "    \"hieght\":height,\n",
    "    \"width\":width,\n",
    "}\n",
    "\n",
    "notebook_params.update(cell_params)"
   ]
  },
  {
   "cell_type": "code",
   "execution_count": null,
   "metadata": {},
   "outputs": [],
   "source": [
    "# @markdown ## Advanced Settings\n",
    "\n",
    "vqgan_model = \"coco\"\n",
    "\n",
    "cell_params = {\n",
    "    \"vqgan_model\": vqgan_model,\n",
    "}\n",
    "\n",
    "notebook_params.update(cell_params)"
   ]
  },
  {
   "cell_type": "code",
   "execution_count": null,
   "metadata": {},
   "outputs": [],
   "source": [
    "invariants = \"\"\"# @package _global_\n",
    "\n",
    "## Invariant settings  ##\n",
    "\n",
    "steps_per_frame: 50\n",
    "steps_per_scene: 200\n",
    "\n",
    "pixel_size: 1\n",
    "\n",
    "image_model: VQGAN\n",
    "\n",
    "use_mmc: true\n",
    "mmc_models:\n",
    "- architecture: clip\n",
    "  publisher: openai\n",
    "  id: ViT-B/16\n",
    "\"\"\""
   ]
  },
  {
   "cell_type": "code",
   "execution_count": null,
   "metadata": {},
   "outputs": [],
   "source": [
    "from omegaconf import OmegaConf\n",
    "from pathlib import Path\n",
    "\n",
    "cfg_invariants = OmegaConf.create(invariants)\n",
    "nb_cfg = OmegaConf.create(notebook_params)\n",
    "conf = OmegaConf.merge(cfg_invariants, nb_cfg)\n",
    "\n",
    "with open(\"config/conf/this_run.yaml\", \"w\") as f:\n",
    "    outstr = \"# @package _global_\\n\"\n",
    "    outstr += OmegaConf.to_yaml(conf)\n",
    "    print(outstr)\n",
    "    f.write(\n",
    "        outstr\n",
    "    )\n",
    "\n",
    "\n",
    "#Path(\"config/conf/ezmode/\").mkdir(parents=True, exist_ok=True)"
   ]
  },
  {
   "cell_type": "code",
   "execution_count": null,
   "metadata": {},
   "outputs": [],
   "source": [
    "## Do the run\n",
    "! python -m pytti.workhorse conf=this_run"
   ]
  },
  {
   "cell_type": "code",
   "execution_count": null,
   "metadata": {},
   "outputs": [],
   "source": [
    "# @title Show Outputs\n",
    "from IPython.display import Image, display\n",
    "\n",
    "outputs = list(Path('outputs/').glob('**/*.png'))\n",
    "outputs.sort()\n",
    "im_path = str(outputs[-1])\n",
    "\n",
    "Image(im_path, height=height, width=width)"
   ]
  }
 ],
 "metadata": {
  "language_info": {
   "name": "python"
  },
  "orig_nbformat": 4
 },
 "nbformat": 4,
 "nbformat_minor": 2
}
