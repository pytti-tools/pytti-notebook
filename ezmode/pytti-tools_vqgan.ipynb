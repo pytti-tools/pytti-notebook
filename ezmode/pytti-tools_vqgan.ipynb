{
 "cells": [
  {
   "cell_type": "code",
   "execution_count": null,
   "metadata": {},
   "outputs": [],
   "source": [
    "%%capture\n",
    "# { display-mode: 'form' }\n",
    "\n",
    "# @title PyTTI-Tools [EzMode]: VQGAN\n",
    "\n",
    "# @markdown ## Setup\n",
    "\n",
    "# @markdown This may take a few minutes. \n",
    "\n",
    "## 1. Install stuff\n",
    "\n",
    "try: \n",
    "    import pytti\n",
    "except ImportError:\n",
    "    !pip install kornia pytorch-lightning transformers\n",
    "    !pip install jupyter loguru einops PyGLM ftfy regex tqdm hydra-core exrex\n",
    "    !pip install seaborn adjustText bunch matplotlib-label-lines\n",
    "    !pip install --upgrade gdown\n",
    "\n",
    "    !pip install --upgrade git+https://github.com/pytti-tools/AdaBins.git\n",
    "    !pip install --upgrade git+https://github.com/pytti-tools/GMA.git\n",
    "    !pip install --upgrade git+https://github.com/pytti-tools/taming-transformers.git\n",
    "    !pip install --upgrade git+https://github.com/openai/CLIP.git\n",
    "    !pip install --upgrade git+https://github.com/pytti-tools/pytti-core.git\n",
    "\n",
    "try:\n",
    "    import mmc\n",
    "except:\n",
    "    # install mmc\n",
    "    !git clone https://github.com/dmarx/Multi-Modal-Comparators\n",
    "    !pip install poetry\n",
    "    !cd Multi-Modal-Comparators; poetry build\n",
    "    !cd Multi-Modal-Comparators; pip install dist/mmc*.whl\n",
    "    !python Multi-Modal-Comparators/src/mmc/napm_installs/__init__.py\n",
    "\n",
    "# suppress mmc warmup outputs\n",
    "import mmc.loaders\n",
    "!python -m pytti.warmup\n",
    "\n",
    "notebook_params = {}"
   ]
  },
  {
   "cell_type": "code",
   "execution_count": null,
   "metadata": {},
   "outputs": [],
   "source": [
    "# @markdown ## Basic Settings\n",
    "\n",
    "prompts = \"a photograph of albert einstein\" # @param {type:\"string\"}\n",
    "\n",
    "cell_params = {\n",
    "    \"prompts\": prompts,\n",
    "}\n",
    "\n",
    "notebook_params.update(cell_params)"
   ]
  },
  {
   "cell_type": "code",
   "execution_count": null,
   "metadata": {},
   "outputs": [],
   "source": [
    "# @markdown ## Advanced Settings\n",
    "\n",
    "vqgan_model = \"coco\"\n",
    "\n",
    "cell_params = {\n",
    "    \"vqgan_model\": vqgan_model,\n",
    "}\n",
    "\n",
    "notebook_params.update(cell_params)"
   ]
  },
  {
   "cell_type": "code",
   "execution_count": null,
   "metadata": {},
   "outputs": [],
   "source": [
    "from omegaconf import OmegaConf\n",
    "nb_cfg = OmegaConf.create(notebook_params)\n",
    "with open(\"config/conf/this_run.yaml\", \"w\") as f:\n",
    "    f.write(OmegaConf.to_yaml(nb_cfg))"
   ]
  },
  {
   "cell_type": "code",
   "execution_count": null,
   "metadata": {},
   "outputs": [],
   "source": [
    "%%writefile config/conf/ezmode/vqgan.yaml\n",
    "# @package _global_\n",
    "\n",
    "## Invariant settings  ##\n",
    "\n",
    "steps_per_frame: 50\n",
    "steps_per_scene: 200\n",
    "\n",
    "pixel_size: 1\n",
    "\n",
    "image_model: VQGAN\n",
    "\n",
    "use_mmc: true\n",
    "mmc_models:\n",
    "- architecture: clip\n",
    "  publisher: openai\n",
    "  id: ViT-B/16"
   ]
  },
  {
   "cell_type": "code",
   "execution_count": null,
   "metadata": {},
   "outputs": [],
   "source": [
    "## Do the run\n",
    "! python -m pytti.workhorse conf.ezmode=vqgan conf=this_run"
   ]
  }
 ],
 "metadata": {
  "language_info": {
   "name": "python"
  },
  "orig_nbformat": 4
 },
 "nbformat": 4,
 "nbformat_minor": 2
}
